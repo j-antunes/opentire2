{
 "cells": [
  {
   "cell_type": "code",
   "execution_count": null,
   "metadata": {},
   "outputs": [
    {
     "ename": "TypeError",
     "evalue": "'int' object is not iterable",
     "output_type": "error",
     "traceback": [
      "\u001b[0;31m---------------------------------------------------------------------------\u001b[0m",
      "\u001b[0;31mTypeError\u001b[0m                                 Traceback (most recent call last)",
      "Cell \u001b[0;32mIn[11], line 29\u001b[0m\n\u001b[1;32m     27\u001b[0m \u001b[38;5;28;01mfor\u001b[39;00m sa \u001b[38;5;129;01min\u001b[39;00m slip_angles:\n\u001b[1;32m     28\u001b[0m     state\u001b[38;5;241m.\u001b[39mSA \u001b[38;5;241m=\u001b[39m sa\n\u001b[0;32m---> 29\u001b[0m     \u001b[43mtire\u001b[49m\u001b[38;5;241;43m.\u001b[39;49m\u001b[43msolve\u001b[49m\u001b[43m(\u001b[49m\u001b[43mstate\u001b[49m\u001b[43m,\u001b[49m\u001b[43m \u001b[49m\u001b[43mSolverMode\u001b[49m\u001b[38;5;241;43m.\u001b[39;49m\u001b[43mFy\u001b[49m\u001b[43m)\u001b[49m\n\u001b[1;32m     30\u001b[0m     lateral_force\u001b[38;5;241m.\u001b[39mappend(state\u001b[38;5;241m.\u001b[39mFY)\n\u001b[1;32m     31\u001b[0m lateral_forces\u001b[38;5;241m.\u001b[39mappend(lateral_force)\n",
      "File \u001b[0;32m~/workspace/open_tire/src/TireModel/PAC2002/PAC2002.py:629\u001b[0m, in \u001b[0;36mPAC2002.solve\u001b[0;34m(self, input_state, mode)\u001b[0m\n\u001b[1;32m    622\u001b[0m states \u001b[38;5;241m=\u001b[39m TireState(\n\u001b[1;32m    623\u001b[0m     FX\u001b[38;5;241m=\u001b[39m[], FY\u001b[38;5;241m=\u001b[39m[], FZ\u001b[38;5;241m=\u001b[39m[], MX\u001b[38;5;241m=\u001b[39m[], MY\u001b[38;5;241m=\u001b[39m[], MZ\u001b[38;5;241m=\u001b[39m[], SA\u001b[38;5;241m=\u001b[39m[], SR\u001b[38;5;241m=\u001b[39m[], IA\u001b[38;5;241m=\u001b[39m[], V\u001b[38;5;241m=\u001b[39m[], P\u001b[38;5;241m=\u001b[39m[]\n\u001b[1;32m    624\u001b[0m )\n\u001b[1;32m    625\u001b[0m state_table \u001b[38;5;241m=\u001b[39m TireState(\n\u001b[1;32m    626\u001b[0m     FX\u001b[38;5;241m=\u001b[39m[], FY\u001b[38;5;241m=\u001b[39m[], FZ\u001b[38;5;241m=\u001b[39m[], MX\u001b[38;5;241m=\u001b[39m[], MY\u001b[38;5;241m=\u001b[39m[], MZ\u001b[38;5;241m=\u001b[39m[], SA\u001b[38;5;241m=\u001b[39m[], SR\u001b[38;5;241m=\u001b[39m[], IA\u001b[38;5;241m=\u001b[39m[], V\u001b[38;5;241m=\u001b[39m[], P\u001b[38;5;241m=\u001b[39m[]\n\u001b[1;32m    627\u001b[0m )\n\u001b[0;32m--> 629\u001b[0m \u001b[43m\u001b[49m\u001b[38;5;28;43;01mfor\u001b[39;49;00m\u001b[43m \u001b[49m\u001b[43mload\u001b[49m\u001b[43m \u001b[49m\u001b[38;5;129;43;01min\u001b[39;49;00m\u001b[43m \u001b[49m\u001b[43minput_state\u001b[49m\u001b[38;5;241;43m.\u001b[39;49m\u001b[43mFZ\u001b[49m\u001b[43m:\u001b[49m\n\u001b[1;32m    630\u001b[0m \u001b[43m    \u001b[49m\u001b[38;5;28;43;01mfor\u001b[39;49;00m\u001b[43m \u001b[49m\u001b[43mcamber\u001b[49m\u001b[43m \u001b[49m\u001b[38;5;129;43;01min\u001b[39;49;00m\u001b[43m \u001b[49m\u001b[43minput_state\u001b[49m\u001b[38;5;241;43m.\u001b[39;49m\u001b[43mIA\u001b[49m\u001b[43m:\u001b[49m\n\u001b[1;32m    631\u001b[0m \u001b[43m        \u001b[49m\u001b[38;5;28;43;01mfor\u001b[39;49;00m\u001b[43m \u001b[49m\u001b[43mspeed\u001b[49m\u001b[43m \u001b[49m\u001b[38;5;129;43;01min\u001b[39;49;00m\u001b[43m \u001b[49m\u001b[43minput_state\u001b[49m\u001b[38;5;241;43m.\u001b[39;49m\u001b[43mV\u001b[49m\u001b[43m:\u001b[49m\n",
      "\u001b[0;31mTypeError\u001b[0m: 'int' object is not iterable"
     ]
    }
   ],
   "source": [
    "import sys\n",
    "import os\n",
    "\n",
    "from src.TireModel.solvermode import SolverMode\n",
    "sys.path.append(os.path.abspath(os.path.join(os.getcwd(), '../../..')))\n",
    "from src.core import TireState\n",
    "from src.TireModel.PAC2002 import PAC2002\n",
    "import matplotlib.pyplot as plt\n",
    "import numpy as np\n",
    "\n",
    "# Initialize tire model and state\n",
    "tire = PAC2002()\n",
    "state = TireState()\n",
    "state.P = 260000\n",
    "state.IA = 0\n",
    "state.SR = 0\n",
    "\n",
    "# Define parameters\n",
    "vertical_loads = [1000, 1500, 2000]\n",
    "slip_angles = np.arange(-12, 12, 0.1) * np.pi / 180\n",
    "\n",
    "# Prepare data for plotting\n",
    "lateral_forces = []\n",
    "for fz in vertical_loads:\n",
    "    state.FZ = fz\n",
    "    lateral_force = []\n",
    "    for sa in slip_angles:\n",
    "        state.SA = sa\n",
    "        tire.solve(state, SolverMode.Fy)\n",
    "        lateral_force.append(state.FY)\n",
    "    lateral_forces.append(lateral_force)\n",
    "\n",
    "# Plot results\n",
    "for i, fz in enumerate(vertical_loads):\n",
    "    plt.plot(slip_angles, lateral_forces[i], label=f'FZ = {fz}')\n",
    "\n",
    "# Add labels and legend\n",
    "plt.xlabel('Slip Angle (rad)')\n",
    "plt.ylabel('Lateral Force (N)')\n",
    "plt.title('Lateral Force vs Slip Angle for Various Vertical Loads')\n",
    "plt.legend()\n",
    "plt.grid()\n",
    "plt.show()\n"
   ]
  }
 ],
 "metadata": {
  "kernelspec": {
   "display_name": ".venv",
   "language": "python",
   "name": "python3"
  },
  "language_info": {
   "codemirror_mode": {
    "name": "ipython",
    "version": 3
   },
   "file_extension": ".py",
   "mimetype": "text/x-python",
   "name": "python",
   "nbconvert_exporter": "python",
   "pygments_lexer": "ipython3",
   "version": "3.12.3"
  }
 },
 "nbformat": 4,
 "nbformat_minor": 2
}
